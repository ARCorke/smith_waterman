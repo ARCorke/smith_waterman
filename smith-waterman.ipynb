{
 "cells": [
  {
   "cell_type": "code",
   "execution_count": 2,
   "id": "3e64136b-c069-4280-af1a-48fbfc5aaa9d",
   "metadata": {
    "execution": {
     "iopub.execute_input": "2024-01-21T19:15:34.108632Z",
     "iopub.status.busy": "2024-01-21T19:15:34.108189Z",
     "iopub.status.idle": "2024-01-21T19:15:34.116134Z",
     "shell.execute_reply": "2024-01-21T19:15:34.114792Z",
     "shell.execute_reply.started": "2024-01-21T19:15:34.108593Z"
    },
    "tags": []
   },
   "outputs": [],
   "source": [
    "def print_scoring_matrix(H, seq1, seq2):\n",
    "    whitespace = ' '\n",
    "    \n",
    "    row1 = whitespace * 4\n",
    "    for char in seq1:\n",
    "        row1 += char + 3*whitespace\n",
    "    print(row1)\n",
    "    \n",
    "    for i, char in enumerate(seq2):\n",
    "        row_string = char + whitespace * 3\n",
    "        for num in list(map(str, H[i])):\n",
    "            row_string += num + ' ' * (4 - len(num))\n",
    "        print(row_string)"
   ]
  },
  {
   "cell_type": "code",
   "execution_count": 12,
   "id": "d76368b3-05a3-442d-a354-244cdc69728b",
   "metadata": {
    "execution": {
     "iopub.execute_input": "2024-01-21T19:16:12.318108Z",
     "iopub.status.busy": "2024-01-21T19:16:12.317487Z",
     "iopub.status.idle": "2024-01-21T19:16:12.326854Z",
     "shell.execute_reply": "2024-01-21T19:16:12.325219Z",
     "shell.execute_reply.started": "2024-01-21T19:16:12.318051Z"
    },
    "tags": []
   },
   "outputs": [],
   "source": [
    "#random sequence generation, for testing\n",
    "import random\n",
    "def random_sequence(sequence_length: int) -> str:\n",
    "    return ''.join([random.choice('ATCG') for _ in range(sequence_length)])"
   ]
  },
  {
   "cell_type": "code",
   "execution_count": 13,
   "id": "6441a881-c221-4630-ac63-54605aced8dc",
   "metadata": {
    "execution": {
     "iopub.execute_input": "2024-01-21T19:16:12.535706Z",
     "iopub.status.busy": "2024-01-21T19:16:12.535180Z",
     "iopub.status.idle": "2024-01-21T19:16:12.542599Z",
     "shell.execute_reply": "2024-01-21T19:16:12.541242Z",
     "shell.execute_reply.started": "2024-01-21T19:16:12.535656Z"
    },
    "tags": []
   },
   "outputs": [],
   "source": [
    "#similarity score\n",
    "def S(a, b):\n",
    "    MATCH = 3\n",
    "    MISMATCH = -3\n",
    "    return MATCH if a == b else MISMATCH\n",
    "#S = lambda a, b: 3 if a==b else -3"
   ]
  },
  {
   "cell_type": "code",
   "execution_count": 14,
   "id": "76c7364f-e7b0-4661-a0a4-3512938201f5",
   "metadata": {
    "execution": {
     "iopub.execute_input": "2024-01-21T19:16:12.741428Z",
     "iopub.status.busy": "2024-01-21T19:16:12.740273Z",
     "iopub.status.idle": "2024-01-21T19:16:12.755849Z",
     "shell.execute_reply": "2024-01-21T19:16:12.754484Z",
     "shell.execute_reply.started": "2024-01-21T19:16:12.741375Z"
    },
    "tags": []
   },
   "outputs": [],
   "source": [
    "def scoring_matrix(seq1, seq2, W_1 = 2):\n",
    "    H = [[0]*len(seq1) for _ in range(len(seq2))]\n",
    "\n",
    "    max_in_matrix = [0,(0,0)]\n",
    "    arrows = {}\n",
    "    \n",
    "    for j in range(1, len(seq2)):\n",
    "        for i in range(1, len(seq1)):\n",
    "            mismatch = H[j-1][i-1] + S(seq1[i], seq2[j])\n",
    "            delete = H[j][i-1] - W_1\n",
    "            insert = H[j-1][i] - W_1\n",
    "            value = max(0, mismatch, delete, insert)\n",
    "                    \n",
    "            H[j][i] = value\n",
    "            \n",
    "            if value == 0:\n",
    "                continue\n",
    "                \n",
    "            arrow = []\n",
    "            if value == mismatch:\n",
    "                arrow.append((i-1, j-1))\n",
    "            if value == delete:\n",
    "                arrow.append((i-1, j))\n",
    "            if value == insert:\n",
    "                arrow.append((i, j-1))\n",
    "            arrows[(i, j)] = arrow\n",
    "                \n",
    "            if value >= max_in_matrix[0]:\n",
    "                max_in_matrix = [value, (i, j)]\n",
    "    return (H, arrows, max_in_matrix)"
   ]
  },
  {
   "cell_type": "code",
   "execution_count": 15,
   "id": "739b1676-5aa7-4998-be7c-1d2912587133",
   "metadata": {
    "execution": {
     "iopub.execute_input": "2024-01-21T19:16:12.945477Z",
     "iopub.status.busy": "2024-01-21T19:16:12.944872Z",
     "iopub.status.idle": "2024-01-21T19:16:12.953891Z",
     "shell.execute_reply": "2024-01-21T19:16:12.952495Z",
     "shell.execute_reply.started": "2024-01-21T19:16:12.945398Z"
    },
    "tags": []
   },
   "outputs": [],
   "source": [
    "def backtrack(H, pos, arrows):\n",
    "    i, j = pos[1]\n",
    "    path = []\n",
    "    while H[j][i]:\n",
    "        path.append((i, j))\n",
    "        i, j = arrows[(i,j)][0]\n",
    "    return path[::-1]"
   ]
  },
  {
   "cell_type": "code",
   "execution_count": 16,
   "id": "e38aa681-3b42-4ec4-a44a-4a394eb6455b",
   "metadata": {
    "execution": {
     "iopub.execute_input": "2024-01-21T19:16:13.289791Z",
     "iopub.status.busy": "2024-01-21T19:16:13.289276Z",
     "iopub.status.idle": "2024-01-21T19:16:13.298614Z",
     "shell.execute_reply": "2024-01-21T19:16:13.297125Z",
     "shell.execute_reply.started": "2024-01-21T19:16:13.289741Z"
    },
    "tags": []
   },
   "outputs": [],
   "source": [
    "def get_optimal_allignment(path, seq1, seq2):\n",
    "    seq1_allign, seq2_allign = '', ''\n",
    "    for k, step in enumerate(path):\n",
    "        i, j = step\n",
    "        seq1_allign += seq1[i] if path[k-1][0] != path[k][0] else '-'\n",
    "        seq2_allign += seq2[j] if path[k-1][1] != path[k][1] else '-'\n",
    "    return seq1_allign, seq2_allign"
   ]
  },
  {
   "cell_type": "code",
   "execution_count": 17,
   "id": "266f3df5-41a3-464c-acfd-d8ba0d239301",
   "metadata": {
    "execution": {
     "iopub.execute_input": "2024-01-21T19:16:13.492094Z",
     "iopub.status.busy": "2024-01-21T19:16:13.491576Z",
     "iopub.status.idle": "2024-01-21T19:16:13.499696Z",
     "shell.execute_reply": "2024-01-21T19:16:13.498329Z",
     "shell.execute_reply.started": "2024-01-21T19:16:13.492044Z"
    },
    "tags": []
   },
   "outputs": [],
   "source": [
    "def print_optimal_allignment(seq1_allign, seq2_allign):\n",
    "    print(seq1_allign)\n",
    "    row2 = ''\n",
    "    for i, _ in enumerate(seq1_allign):\n",
    "        row2 += '|' if seq1_allign[i] == seq2_allign[i] else ' '\n",
    "    print(row2)\n",
    "    print(seq2_allign)"
   ]
  },
  {
   "cell_type": "code",
   "execution_count": 18,
   "id": "38037adf-f19a-40f4-bc62-6beab6425578",
   "metadata": {
    "execution": {
     "iopub.execute_input": "2024-01-21T19:16:13.792809Z",
     "iopub.status.busy": "2024-01-21T19:16:13.792293Z",
     "iopub.status.idle": "2024-01-21T19:16:13.801882Z",
     "shell.execute_reply": "2024-01-21T19:16:13.800378Z",
     "shell.execute_reply.started": "2024-01-21T19:16:13.792759Z"
    },
    "tags": []
   },
   "outputs": [],
   "source": [
    "def smith_waterman(seq1, seq2, print_allign = False, print_matrix = False):\n",
    "    seq1, seq2 = '_' + seq1, '_' + seq2\n",
    "    H, arrows, max_in_matrix = scoring_matrix(seq1, seq2) \n",
    "    path = backtrack(H, max_in_matrix, arrows)\n",
    "    alligned = get_optimal_allignment(path, seq1, seq2)\n",
    "    \n",
    "    if print_matrix: print_scoring_matrix(H, seq1, seq2) \n",
    "    if print_allign: print_optimal_allignment(alligned[0], alligned[1])\n",
    "    \n",
    "    return alligned"
   ]
  },
  {
   "cell_type": "code",
   "execution_count": 19,
   "id": "5899519c-e9ad-40fa-bad0-655e8493f7c4",
   "metadata": {
    "execution": {
     "iopub.execute_input": "2024-01-21T19:16:14.090984Z",
     "iopub.status.busy": "2024-01-21T19:16:14.090456Z",
     "iopub.status.idle": "2024-01-21T19:16:14.101560Z",
     "shell.execute_reply": "2024-01-21T19:16:14.100210Z",
     "shell.execute_reply.started": "2024-01-21T19:16:14.090932Z"
    },
    "tags": []
   },
   "outputs": [
    {
     "name": "stdout",
     "output_type": "stream",
     "text": [
      "    _   T   G   T   T   A   C   G   G   \n",
      "_   0   0   0   0   0   0   0   0   0   \n",
      "G   0   0   3   1   0   0   0   3   3   \n",
      "G   0   0   3   1   0   0   0   3   6   \n",
      "T   0   3   1   6   4   2   0   1   4   \n",
      "T   0   3   1   4   9   7   5   3   2   \n",
      "G   0   1   6   4   7   6   4   8   6   \n",
      "A   0   0   4   3   5   10  8   6   5   \n",
      "C   0   0   2   1   3   8   13  11  9   \n",
      "T   0   3   1   5   4   6   11  10  8   \n",
      "A   0   1   0   3   2   7   9   8   7   \n",
      "GTT-AC\n",
      "||| ||\n",
      "GTTGAC\n"
     ]
    },
    {
     "data": {
      "text/plain": [
       "('GTT-AC', 'GTTGAC')"
      ]
     },
     "execution_count": 19,
     "metadata": {},
     "output_type": "execute_result"
    }
   ],
   "source": [
    "smith_waterman('TGTTACGG', 'GGTTGACTA', True, True)"
   ]
  },
  {
   "cell_type": "code",
   "execution_count": 20,
   "id": "b5dffa91-b3e0-404c-b48f-2e1d46d3c06a",
   "metadata": {
    "execution": {
     "iopub.execute_input": "2024-01-21T19:16:15.524267Z",
     "iopub.status.busy": "2024-01-21T19:16:15.522908Z",
     "iopub.status.idle": "2024-01-21T19:16:18.661306Z",
     "shell.execute_reply": "2024-01-21T19:16:18.660523Z",
     "shell.execute_reply.started": "2024-01-21T19:16:15.524209Z"
    },
    "tags": []
   },
   "outputs": [
    {
     "data": {
      "text/plain": [
       "('TTAG-TCT-GAGCATCGT-TTGC-TC-ATGTG-T-C-G-C-CTGT-TTCC-A--GGTAGCCGCTG-TATTCTGCTGGG--A-AACC-C-----CGTATCGCT--ACT-TC-GAAGTTC-----AGC-A-GATA-TCAC-TCTTA-TATCAGTCACA--GTCAATCGA-GC-GCCA-GTCCAGA-AGT--CCG---CC-CC-TCAACCAT--GA--CTGCCAA--CGATCTCTCGGACCCTTCGCTCGATAGCGGACCCTCACC-GAAG-CCGC-CGAGGCG----GAA--CTGTGGTGATGAG--C-T-TA-ACACTC--CACGTGATTGAAACGTGCCAAATCAGG-TG--T--TC-TGATGATCAGCTGGTA-GACG-TTCAACGTATGGTAAGCAAAAACA--GACTTAGTTGGCCGCCTCCGTACCA-CGACTCGAACGGTTTGAGTCGCA-GCGC-CTTAATATCTT---T-A-G-A-A--AAT-GGT----CAT--TA-TAC-GGA--ACC-C-G-A-A-CC--C-GTGTACGCCATCTG-TCTGTAGGCTACCTGC-TAGTATGCGTAGACTTACCGCCT-AT-CG---GGT-CAG-ACG--CGCAA--C-AGCG-GA-TGTG--A-GTTTGTGCGGTAATACATCCGGAGTG--CGATATAAGAAC--AGCAA-TCA-TTA---GAG-A-CCCAGTC--T-ACG-TCGCT-GGTTATACT--ATGTCAACGGC--A-GGGTAGGC-C--C-C-G-GGGCCT---G---GG---GGACACCGA-ACCT-C-ATCCTGC--CAAGGAAT-CCTC--TC-TCA-CATTG-G-TGAAA-TGAATGCAGCCCCCG-T-AT--C--G--TTA-CGGGGC--TCCGCTATT-G-GTTAAC-T-CAGTCAAT-AAGGGCC--C--GCCGACCCCTTGCATTGGATTACAAT-GAGTCATTCCGTAGAGTCTG-GATCGCGCT-GCGCTCGAAAAAC-ACCGGAAC-CAAC-CGCATTC--T-AGTAGATC---CT-AGCTGTT--CC-A-CGC-TCCCTGATACACCAACCCCGCA--C--G-T-C-ATAGGAGAGACTT--AA-ATAACCTACAA-GTG-GCC---GGCATTGGATCGAGGGGGTAG-GCCGCCA-AGGCC-CATGA-G-T-C',\n",
       " 'TTCGCT-TAGAG-AT-GTATTCCGTCGA-GAGATCCGGACGCT-TCGTCCAATCTCTAGCCAC-GCTAGGCTG-AGGGTTAGATCCGCTGGGGCGT-CCGCTAAAGTGTCAGAGGGACAAAAAAACAATGA-AGTC-CGTATTACTAT-A---A-ATTGTCTA-CGATGCAG-AAGGT-AAGAGAGTAGTCGTATCCACCGGC--CC-TGGGATTCAGGGAAGGCGA-CT-ACAGA---GTCG-T-GTTAGC-GA---TCACCTGGTGACC-CTATAGGCGAAAAGAAGCCTTTGATG-TGAGTACGTGGATATA-TCGGC-C-CGATT---A-G-GCC-TATCTGGATGCCTAATCGTG--GA-CAACCGATAGGACGCTTCTTC-TA-GATCATCTACATCATCGA--T-CCCGG--GACT---TA-CAGCG-CT----CGG-TT--GT--CATG-GCAC-T--TA-CTTGAGTAAGGCATAGGAATAGGTACACCATAACATTCCAGGATTTCCACGGAATATCCGGCGGGGTA-GACATCCGTTCTTTA---TA-CT-CATTGT-TGC--A-A---ACC-CGTGATACGTAATGTAC-GTAAGTTC-CAATTCGA-CGAGACTGCGCTATGTTT-T---G--ATACA-CCACA-TGAACG-TGTTCG-ACGGACCAACTGACCTAGCTGTGTATCCC--TCTTTGA-GATCGCTCGCATATACTAGACGTC--C-GCAAATGGGT---CTCTGCTCAGTATGTCTAAAGAACGGTCAGGATA--GAGA--TACGA--GTGCAACAATGCATGGCTCGGTCTTCAGCA-CGCGCT-AAATTG-AT-TAG-----GTTGATAACAGGAATAATGGGGGCAAT-GGTTGTTCGCG--AACATGTTGT-TTTGAA-GTCCTACTGGCCTA-CCC-T--A----A-T-C-ATCGACTC--TCCG--GA-TC-GAGA--G-GTTAG-GCT--AAGTACTGCCGG--CTC-ACGTGC--TCAGTAAGT-GA-CGGGCTAAG-TTTTAGCCTAGAGCAT--CTG--ACGGCAA---CG-ATGCTGGTTCCGACA--A-AG-CTTCGAAGTTAACGTTCAACATGAACCTTTGACATCGG-TCG-CTCGTTAGCG-C-CCAGAGCCCACATAACGCTGC')"
      ]
     },
     "execution_count": 20,
     "metadata": {},
     "output_type": "execute_result"
    }
   ],
   "source": [
    "smith_waterman(random_sequence(1000), random_sequence(1000))"
   ]
  },
  {
   "cell_type": "code",
   "execution_count": null,
   "id": "b8c6c94a-de5f-47a9-89e0-482fa375e256",
   "metadata": {},
   "outputs": [],
   "source": []
  }
 ],
 "metadata": {
  "kernelspec": {
   "display_name": "Python 3 (ipykernel)",
   "language": "python",
   "name": "python3"
  },
  "language_info": {
   "codemirror_mode": {
    "name": "ipython",
    "version": 3
   },
   "file_extension": ".py",
   "mimetype": "text/x-python",
   "name": "python",
   "nbconvert_exporter": "python",
   "pygments_lexer": "ipython3",
   "version": "3.10.10"
  }
 },
 "nbformat": 4,
 "nbformat_minor": 5
}
